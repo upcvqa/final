{
  "nbformat": 4,
  "nbformat_minor": 0,
  "metadata": {
    "colab": {
      "name": "Model100.ipynb",
      "provenance": [],
      "collapsed_sections": [],
      "toc_visible": true,
      "include_colab_link": true
    },
    "kernelspec": {
      "name": "python3",
      "display_name": "Python 3"
    },
    "accelerator": "GPU",
    "widgets": {
      "application/vnd.jupyter.widget-state+json": {
        "6b057ff5739543e6baebc6ec0e975288": {
          "model_module": "@jupyter-widgets/controls",
          "model_name": "HBoxModel",
          "state": {
            "_view_name": "HBoxView",
            "_dom_classes": [],
            "_model_name": "HBoxModel",
            "_view_module": "@jupyter-widgets/controls",
            "_model_module_version": "1.5.0",
            "_view_count": null,
            "_view_module_version": "1.5.0",
            "box_style": "",
            "layout": "IPY_MODEL_5ab55c54524f4bed8795e208b9c3724a",
            "_model_module": "@jupyter-widgets/controls",
            "children": [
              "IPY_MODEL_5666d89d230a45559f8770943cd9cef3",
              "IPY_MODEL_e32ae33956574da7a90f06c40f49421a"
            ]
          }
        },
        "5ab55c54524f4bed8795e208b9c3724a": {
          "model_module": "@jupyter-widgets/base",
          "model_name": "LayoutModel",
          "state": {
            "_view_name": "LayoutView",
            "grid_template_rows": null,
            "right": null,
            "justify_content": null,
            "_view_module": "@jupyter-widgets/base",
            "overflow": null,
            "_model_module_version": "1.2.0",
            "_view_count": null,
            "flex_flow": null,
            "width": null,
            "min_width": null,
            "border": null,
            "align_items": null,
            "bottom": null,
            "_model_module": "@jupyter-widgets/base",
            "top": null,
            "grid_column": null,
            "overflow_y": null,
            "overflow_x": null,
            "grid_auto_flow": null,
            "grid_area": null,
            "grid_template_columns": null,
            "flex": null,
            "_model_name": "LayoutModel",
            "justify_items": null,
            "grid_row": null,
            "max_height": null,
            "align_content": null,
            "visibility": null,
            "align_self": null,
            "height": null,
            "min_height": null,
            "padding": null,
            "grid_auto_rows": null,
            "grid_gap": null,
            "max_width": null,
            "order": null,
            "_view_module_version": "1.2.0",
            "grid_template_areas": null,
            "object_position": null,
            "object_fit": null,
            "grid_auto_columns": null,
            "margin": null,
            "display": null,
            "left": null
          }
        },
        "5666d89d230a45559f8770943cd9cef3": {
          "model_module": "@jupyter-widgets/controls",
          "model_name": "FloatProgressModel",
          "state": {
            "_view_name": "ProgressView",
            "style": "IPY_MODEL_708c06d8a6444a28ace661995443dbe8",
            "_dom_classes": [],
            "description": "100%",
            "_model_name": "FloatProgressModel",
            "bar_style": "success",
            "max": 553433881,
            "_view_module": "@jupyter-widgets/controls",
            "_model_module_version": "1.5.0",
            "value": 553433881,
            "_view_count": null,
            "_view_module_version": "1.5.0",
            "orientation": "horizontal",
            "min": 0,
            "description_tooltip": null,
            "_model_module": "@jupyter-widgets/controls",
            "layout": "IPY_MODEL_961e286ff67941eb8b8bd008c7f70de1"
          }
        },
        "e32ae33956574da7a90f06c40f49421a": {
          "model_module": "@jupyter-widgets/controls",
          "model_name": "HTMLModel",
          "state": {
            "_view_name": "HTMLView",
            "style": "IPY_MODEL_b1efa008bad545aba92cb9233f95b305",
            "_dom_classes": [],
            "description": "",
            "_model_name": "HTMLModel",
            "placeholder": "​",
            "_view_module": "@jupyter-widgets/controls",
            "_model_module_version": "1.5.0",
            "value": " 528M/528M [00:24&lt;00:00, 22.8MB/s]",
            "_view_count": null,
            "_view_module_version": "1.5.0",
            "description_tooltip": null,
            "_model_module": "@jupyter-widgets/controls",
            "layout": "IPY_MODEL_2329ac6370d546e78c889ce95069a336"
          }
        },
        "708c06d8a6444a28ace661995443dbe8": {
          "model_module": "@jupyter-widgets/controls",
          "model_name": "ProgressStyleModel",
          "state": {
            "_view_name": "StyleView",
            "_model_name": "ProgressStyleModel",
            "description_width": "initial",
            "_view_module": "@jupyter-widgets/base",
            "_model_module_version": "1.5.0",
            "_view_count": null,
            "_view_module_version": "1.2.0",
            "bar_color": null,
            "_model_module": "@jupyter-widgets/controls"
          }
        },
        "961e286ff67941eb8b8bd008c7f70de1": {
          "model_module": "@jupyter-widgets/base",
          "model_name": "LayoutModel",
          "state": {
            "_view_name": "LayoutView",
            "grid_template_rows": null,
            "right": null,
            "justify_content": null,
            "_view_module": "@jupyter-widgets/base",
            "overflow": null,
            "_model_module_version": "1.2.0",
            "_view_count": null,
            "flex_flow": null,
            "width": null,
            "min_width": null,
            "border": null,
            "align_items": null,
            "bottom": null,
            "_model_module": "@jupyter-widgets/base",
            "top": null,
            "grid_column": null,
            "overflow_y": null,
            "overflow_x": null,
            "grid_auto_flow": null,
            "grid_area": null,
            "grid_template_columns": null,
            "flex": null,
            "_model_name": "LayoutModel",
            "justify_items": null,
            "grid_row": null,
            "max_height": null,
            "align_content": null,
            "visibility": null,
            "align_self": null,
            "height": null,
            "min_height": null,
            "padding": null,
            "grid_auto_rows": null,
            "grid_gap": null,
            "max_width": null,
            "order": null,
            "_view_module_version": "1.2.0",
            "grid_template_areas": null,
            "object_position": null,
            "object_fit": null,
            "grid_auto_columns": null,
            "margin": null,
            "display": null,
            "left": null
          }
        },
        "b1efa008bad545aba92cb9233f95b305": {
          "model_module": "@jupyter-widgets/controls",
          "model_name": "DescriptionStyleModel",
          "state": {
            "_view_name": "StyleView",
            "_model_name": "DescriptionStyleModel",
            "description_width": "",
            "_view_module": "@jupyter-widgets/base",
            "_model_module_version": "1.5.0",
            "_view_count": null,
            "_view_module_version": "1.2.0",
            "_model_module": "@jupyter-widgets/controls"
          }
        },
        "2329ac6370d546e78c889ce95069a336": {
          "model_module": "@jupyter-widgets/base",
          "model_name": "LayoutModel",
          "state": {
            "_view_name": "LayoutView",
            "grid_template_rows": null,
            "right": null,
            "justify_content": null,
            "_view_module": "@jupyter-widgets/base",
            "overflow": null,
            "_model_module_version": "1.2.0",
            "_view_count": null,
            "flex_flow": null,
            "width": null,
            "min_width": null,
            "border": null,
            "align_items": null,
            "bottom": null,
            "_model_module": "@jupyter-widgets/base",
            "top": null,
            "grid_column": null,
            "overflow_y": null,
            "overflow_x": null,
            "grid_auto_flow": null,
            "grid_area": null,
            "grid_template_columns": null,
            "flex": null,
            "_model_name": "LayoutModel",
            "justify_items": null,
            "grid_row": null,
            "max_height": null,
            "align_content": null,
            "visibility": null,
            "align_self": null,
            "height": null,
            "min_height": null,
            "padding": null,
            "grid_auto_rows": null,
            "grid_gap": null,
            "max_width": null,
            "order": null,
            "_view_module_version": "1.2.0",
            "grid_template_areas": null,
            "object_position": null,
            "object_fit": null,
            "grid_auto_columns": null,
            "margin": null,
            "display": null,
            "left": null
          }
        }
      }
    }
  },
  "cells": [
    {
      "cell_type": "markdown",
      "metadata": {
        "id": "view-in-github",
        "colab_type": "text"
      },
      "source": [
        "<a href=\"https://colab.research.google.com/github/upcvqa/final/blob/main/model-colabs/Model100.ipynb\" target=\"_parent\"><img src=\"https://colab.research.google.com/assets/colab-badge.svg\" alt=\"Open In Colab\"/></a>"
      ]
    },
    {
      "cell_type": "markdown",
      "metadata": {
        "id": "2YTK5-rrV0fC"
      },
      "source": [
        ""
      ]
    },
    {
      "cell_type": "markdown",
      "metadata": {
        "id": "eSPlz1tpVm8a"
      },
      "source": [
        "# VQA Model\n",
        "\n",
        "![image.png](data:image/png;base64,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)"
      ]
    },
    {
      "cell_type": "code",
      "metadata": {
        "id": "CkCidpatsu4M"
      },
      "source": [
        "import os\n",
        "import matplotlib.pyplot as plt\n",
        "import matplotlib.image as mpimg\n",
        "from PIL import Image\n",
        "from skimage import io\n",
        "import torch\n",
        "from torch.utils.data import Dataset, DataLoader\n",
        "from torchvision import transforms, utils\n",
        "import json\n",
        "import pprint\n",
        "import numpy as np\n",
        "import time\n",
        "from datetime import timedelta\n"
      ],
      "execution_count": null,
      "outputs": []
    },
    {
      "cell_type": "markdown",
      "metadata": {
        "id": "4t4gt77EWmPC"
      },
      "source": [
        "Mounting shared Google Drive"
      ]
    },
    {
      "cell_type": "code",
      "metadata": {
        "id": "0LoaoQ7d7XhC",
        "outputId": "3333993a-9c04-4092-9deb-5bbd204bb481",
        "colab": {
          "base_uri": "https://localhost:8080/"
        }
      },
      "source": [
        "from google.colab import drive\n",
        "drive.mount('/content/drive',force_remount=True)\n",
        "\n",
        "import sys\n",
        "sys.path.append('/content/drive/My Drive/aidl/lib')"
      ],
      "execution_count": null,
      "outputs": [
        {
          "output_type": "stream",
          "text": [
            "Mounted at /content/drive\n"
          ],
          "name": "stdout"
        }
      ]
    },
    {
      "cell_type": "code",
      "metadata": {
        "id": "zrpXH2eUxg-s",
        "outputId": "eaecdc4b-9a69-4dbe-b1a8-39b34e07d798",
        "colab": {
          "base_uri": "https://localhost:8080/"
        }
      },
      "source": [
        "! ls -1 '/content/drive/My Drive/aidl/coco/'*.jpg | wc -l"
      ],
      "execution_count": null,
      "outputs": [
        {
          "output_type": "stream",
          "text": [
            "18152\n"
          ],
          "name": "stdout"
        }
      ]
    },
    {
      "cell_type": "markdown",
      "metadata": {
        "id": "X-zJrEWSWxWI"
      },
      "source": [
        "Global Parameters"
      ]
    },
    {
      "cell_type": "code",
      "metadata": {
        "id": "W0e6NGOM8KJu",
        "outputId": "9027e902-f603-4142-aa0a-70b0a13b4f18",
        "colab": {
          "base_uri": "https://localhost:8080/"
        }
      },
      "source": [
        "batch_size = 30\n",
        "num_epochs = 20\n",
        "learning_rate = 0.001\n",
        "#dataset_root = \"/content/model1000_any\"\n",
        "#dataset_root = \"/content/drive/My Drive/aidl\"\n",
        "#dataset_root = \"/content/drive/My Drive/aidl/Dataset100\"\n",
        "#dataset_root = \"/content/drive/My Drive/aidl/model5000_1_20\"\n",
        "#dataset_root = \"/content/drive/My Drive/aidl/model10000_1_20\"\n",
        "dataset_root = \"/content/drive/My Drive/aidl/model1000_any\"\n",
        "#dataset_root = \"/content/drive/My Drive/aidl/model10000_yes_no\"\n",
        "\n",
        "!ls '$dataset_root'\n",
        "device = torch.device('cuda')"
      ],
      "execution_count": null,
      "outputs": [
        {
          "output_type": "stream",
          "text": [
            "annotations.save       mscoco_a.json\t mscoco_qtrain.txt\n",
            "coco\t\t       mscoco_i.txt\t question_embeddings.save\n",
            "image_embeddings.save  mscoco_q.json\n",
            "metadatas.save\t       mscoco_qtest.txt\n"
          ],
          "name": "stdout"
        }
      ]
    },
    {
      "cell_type": "markdown",
      "metadata": {
        "id": "jJgGAO9aW9_c"
      },
      "source": [
        "Custom Data Loader"
      ]
    },
    {
      "cell_type": "code",
      "metadata": {
        "id": "ReXnBh2Jt784"
      },
      "source": [
        "\"\"\"\n",
        "     Data structure:\n",
        "\n",
        "     root_dir\n",
        "        |_ mscoco_qtrain.txt [list of question IDs for training]\n",
        "        |_ mscoco_qtest.txt  [list of question IDs for testing]\n",
        "        |_ mscoco_q.json     [json of questions]\n",
        "        |_ mscoco_a.json     [json of annotations]\n",
        "        |_ coco              [subdirectory for images]\n",
        "            |_ image 1\n",
        "            |_ image 2\n",
        "              ...\n",
        "            |_ image n\n",
        "\n",
        "\"\"\"\n",
        "\n",
        "class TestDataset(Dataset):\n",
        "#\n",
        "#   _ _ i n i t _ _\n",
        "#\n",
        "    def __init__(self, root_dir, train=False, transform=None):\n",
        "        \"\"\"\n",
        "        Args:\n",
        "            root_dir (string): root directory for the data           \n",
        "            train (bool, optional): choose training or testing datasets\n",
        "            transform (callable, optional): Optional transform to be applied\n",
        "                on a sample.\n",
        "        \"\"\"\n",
        "\n",
        "        super().__init__()\n",
        "\n",
        "        # Define some constants to access files\n",
        "        self.image_prefix = \"COCO_val2014_\"\n",
        "        self.image_postfix = \".jpg\"\n",
        "        self.image_subdir = 'coco'\n",
        "        self.questions_list_train_fname = 'mscoco_qtrain.txt'\n",
        "        self.questions_list_test_fname = 'mscoco_qtest.txt'\n",
        "        self.questions_fname = 'mscoco_q.json'\n",
        "        self.annotations_fname = 'mscoco_a.json'\n",
        "\n",
        "        # Store parameters as class attributes\n",
        "        self.root_dir = root_dir\n",
        "        self.train = train\n",
        "        self.transform = transform\n",
        "\n",
        "        # Load questions json file\n",
        "        fqfname = os.path.join(self.root_dir, self.questions_fname)\n",
        "        self.questions = json.load(open(fqfname, 'r'))\n",
        "\n",
        "        # Load annotations json file\n",
        "        fqfname = os.path.join(self.root_dir, self.annotations_fname)\n",
        "        self.annotations = json.load(open(fqfname, 'r'))\n",
        "\n",
        "        # Compute list of unique answers (train + test)\n",
        "        fqfname = os.path.join(self.root_dir, self.questions_list_train_fname)\n",
        "        with open(fqfname) as f:\n",
        "          tmp = f.read().splitlines()\n",
        "        ql_train = list(map(int, tmp))\n",
        "\n",
        "        fqfname = os.path.join(self.root_dir, self.questions_list_test_fname)\n",
        "        with open(fqfname) as f:\n",
        "          tmp = f.read().splitlines()\n",
        "        ql_test = list(map(int, tmp))\n",
        "\n",
        "        ql_global = set(ql_train + ql_test)\n",
        "\n",
        "        self.annotation_map = {}\n",
        "        self.annotation_classdist = {}\n",
        "        annotation_id = 0\n",
        "        for a in self.annotations:\n",
        "            if a['question_id'] in ql_global:\n",
        "                if not(a['multiple_choice_answer'] in self.annotation_map):\n",
        "                    self.annotation_map[a['multiple_choice_answer']] = annotation_id\n",
        "                    annotation_id += 1\n",
        "                self.annotation_classdist.update({a['multiple_choice_answer'] : self.annotation_classdist.get(a['multiple_choice_answer'],0) + 1})\n",
        "\n",
        "        #print (self.annotation_map)\n",
        "        #print (self.annotation_classdist)\n",
        "\n",
        "        print(\"Dataset: training {} / testing {}\".format(len(ql_train), len(ql_test)))\n",
        "\n",
        "        # Depending on self.train, assign either training question list or\n",
        "        #   testing question list\n",
        "        if (self.train):\n",
        "            self.questions_list = ql_train\n",
        "        else:\n",
        "            self.questions_list = ql_test\n",
        "#\n",
        "#   _ _ l e n _ _\n",
        "#\n",
        "    def __len__(self):\n",
        "        return len(self.questions_list)\n",
        "#\n",
        "#   _ _ g e t i t e m _ _\n",
        "#\n",
        "    def __getitem__(self, idx):\n",
        "        if torch.is_tensor(idx):\n",
        "            idx = idx.tolist()\n",
        "\n",
        "        # Get question_id from the list\n",
        "        question_id = self.questions_list[idx]\n",
        "\n",
        "        # Find corresponding question and annotation\n",
        "        #   (use next() to get a single value from the list comprehension)\n",
        "        question = next(x for x in self.questions if x['question_id'] == question_id)\n",
        "        annotation = next(a for a in self.annotations if a['question_id'] == question_id)\n",
        "\n",
        "        image_id = question['image_id']\n",
        "        file_name = self.image_prefix+(\"0\"*12+str(image_id))[-12:]+self.image_postfix\n",
        "        fqfname = os.path.join(self.root_dir,self.image_subdir,file_name)\n",
        "        image = Image.open(fqfname)\n",
        " \n",
        "        # Fix B&W images\n",
        "        if image.mode != 'RGB':\n",
        "            image = image.convert('RGB')\n",
        "\n",
        "        # Apply transformation if there is any\n",
        "        if self.transform:\n",
        "            image = self.transform(image)\n",
        "\n",
        "        # Translate annotation to its ID\n",
        "        annotation_ID = self.annotation_map[annotation['multiple_choice_answer']]\n",
        "\n",
        "        # return tuple: image, question text, answer text\n",
        "        return image, question['question'], annotation_ID"
      ],
      "execution_count": null,
      "outputs": []
    },
    {
      "cell_type": "markdown",
      "metadata": {
        "id": "HK1KKV4koYQH"
      },
      "source": [
        "Image Embeddings (pretrained VGG-16)"
      ]
    },
    {
      "cell_type": "code",
      "metadata": {
        "id": "kEtCuk4yrUtG",
        "outputId": "69c8a0f6-0257-4bc7-e4cc-94b63c8b09c8",
        "colab": {
          "base_uri": "https://localhost:8080/",
          "height": 861,
          "referenced_widgets": [
            "6b057ff5739543e6baebc6ec0e975288",
            "5ab55c54524f4bed8795e208b9c3724a",
            "5666d89d230a45559f8770943cd9cef3",
            "e32ae33956574da7a90f06c40f49421a",
            "708c06d8a6444a28ace661995443dbe8",
            "961e286ff67941eb8b8bd008c7f70de1",
            "b1efa008bad545aba92cb9233f95b305",
            "2329ac6370d546e78c889ce95069a336"
          ]
        }
      },
      "source": [
        "from torchvision import models, transforms\n",
        "\n",
        "model = models.vgg16(pretrained=True)\n",
        "model.to(device)\n",
        "model.eval()"
      ],
      "execution_count": null,
      "outputs": [
        {
          "output_type": "stream",
          "text": [
            "Downloading: \"https://download.pytorch.org/models/vgg16-397923af.pth\" to /root/.cache/torch/hub/checkpoints/vgg16-397923af.pth\n"
          ],
          "name": "stderr"
        },
        {
          "output_type": "display_data",
          "data": {
            "application/vnd.jupyter.widget-view+json": {
              "model_id": "6b057ff5739543e6baebc6ec0e975288",
              "version_minor": 0,
              "version_major": 2
            },
            "text/plain": [
              "HBox(children=(FloatProgress(value=0.0, max=553433881.0), HTML(value='')))"
            ]
          },
          "metadata": {
            "tags": []
          }
        },
        {
          "output_type": "stream",
          "text": [
            "\n"
          ],
          "name": "stdout"
        },
        {
          "output_type": "execute_result",
          "data": {
            "text/plain": [
              "VGG(\n",
              "  (features): Sequential(\n",
              "    (0): Conv2d(3, 64, kernel_size=(3, 3), stride=(1, 1), padding=(1, 1))\n",
              "    (1): ReLU(inplace=True)\n",
              "    (2): Conv2d(64, 64, kernel_size=(3, 3), stride=(1, 1), padding=(1, 1))\n",
              "    (3): ReLU(inplace=True)\n",
              "    (4): MaxPool2d(kernel_size=2, stride=2, padding=0, dilation=1, ceil_mode=False)\n",
              "    (5): Conv2d(64, 128, kernel_size=(3, 3), stride=(1, 1), padding=(1, 1))\n",
              "    (6): ReLU(inplace=True)\n",
              "    (7): Conv2d(128, 128, kernel_size=(3, 3), stride=(1, 1), padding=(1, 1))\n",
              "    (8): ReLU(inplace=True)\n",
              "    (9): MaxPool2d(kernel_size=2, stride=2, padding=0, dilation=1, ceil_mode=False)\n",
              "    (10): Conv2d(128, 256, kernel_size=(3, 3), stride=(1, 1), padding=(1, 1))\n",
              "    (11): ReLU(inplace=True)\n",
              "    (12): Conv2d(256, 256, kernel_size=(3, 3), stride=(1, 1), padding=(1, 1))\n",
              "    (13): ReLU(inplace=True)\n",
              "    (14): Conv2d(256, 256, kernel_size=(3, 3), stride=(1, 1), padding=(1, 1))\n",
              "    (15): ReLU(inplace=True)\n",
              "    (16): MaxPool2d(kernel_size=2, stride=2, padding=0, dilation=1, ceil_mode=False)\n",
              "    (17): Conv2d(256, 512, kernel_size=(3, 3), stride=(1, 1), padding=(1, 1))\n",
              "    (18): ReLU(inplace=True)\n",
              "    (19): Conv2d(512, 512, kernel_size=(3, 3), stride=(1, 1), padding=(1, 1))\n",
              "    (20): ReLU(inplace=True)\n",
              "    (21): Conv2d(512, 512, kernel_size=(3, 3), stride=(1, 1), padding=(1, 1))\n",
              "    (22): ReLU(inplace=True)\n",
              "    (23): MaxPool2d(kernel_size=2, stride=2, padding=0, dilation=1, ceil_mode=False)\n",
              "    (24): Conv2d(512, 512, kernel_size=(3, 3), stride=(1, 1), padding=(1, 1))\n",
              "    (25): ReLU(inplace=True)\n",
              "    (26): Conv2d(512, 512, kernel_size=(3, 3), stride=(1, 1), padding=(1, 1))\n",
              "    (27): ReLU(inplace=True)\n",
              "    (28): Conv2d(512, 512, kernel_size=(3, 3), stride=(1, 1), padding=(1, 1))\n",
              "    (29): ReLU(inplace=True)\n",
              "    (30): MaxPool2d(kernel_size=2, stride=2, padding=0, dilation=1, ceil_mode=False)\n",
              "  )\n",
              "  (avgpool): AdaptiveAvgPool2d(output_size=(7, 7))\n",
              "  (classifier): Sequential(\n",
              "    (0): Linear(in_features=25088, out_features=4096, bias=True)\n",
              "    (1): ReLU(inplace=True)\n",
              "    (2): Dropout(p=0.5, inplace=False)\n",
              "    (3): Linear(in_features=4096, out_features=4096, bias=True)\n",
              "    (4): ReLU(inplace=True)\n",
              "    (5): Dropout(p=0.5, inplace=False)\n",
              "    (6): Linear(in_features=4096, out_features=1000, bias=True)\n",
              "  )\n",
              ")"
            ]
          },
          "metadata": {
            "tags": []
          },
          "execution_count": 7
        }
      ]
    },
    {
      "cell_type": "code",
      "metadata": {
        "id": "dcdTpEu5rltd"
      },
      "source": [
        "import torch.nn as nn\n",
        "class ImageEmbedding(nn.Module):\n",
        "\n",
        "    def __init__(self, base_model):\n",
        "        super().__init__()\n",
        "        self.features = base_model.features\n",
        "        self.avgpool = base_model.avgpool\n",
        "        self.classifier = base_model.classifier\n",
        "\n",
        "    def forward(self, x):\n",
        "        x = self.features(x)\n",
        "        x = self.avgpool(x)\n",
        "        x = torch.flatten(x, 1)\n",
        "        for i, layer in enumerate(self.classifier):\n",
        "            x = layer(x)\n",
        "            if i == 3:\n",
        "                break\n",
        "        return x\n"
      ],
      "execution_count": null,
      "outputs": []
    },
    {
      "cell_type": "markdown",
      "metadata": {
        "id": "aW5KbJlMyw-k"
      },
      "source": [
        "Text Embeddings (Google Universal Sentence Encoder)"
      ]
    },
    {
      "cell_type": "code",
      "metadata": {
        "id": "v3Z8S5zEvOOC",
        "outputId": "7acfffb6-bc27-4047-f785-484527f9a94b",
        "colab": {
          "base_uri": "https://localhost:8080/"
        }
      },
      "source": [
        "from absl import logging\n",
        "\n",
        "import tensorflow as tf\n",
        "\n",
        "import tensorflow_hub as hub\n",
        "import matplotlib.pyplot as plt\n",
        "import pandas as pd\n",
        "import re\n",
        "\n",
        "module_url = \"https://tfhub.dev/google/universal-sentence-encoder/4\"\n",
        "\n",
        "sentence_embedding_generator = hub.load(module_url)\n",
        "print (\"module %s loaded\" % module_url)"
      ],
      "execution_count": null,
      "outputs": [
        {
          "output_type": "stream",
          "text": [
            "module https://tfhub.dev/google/universal-sentence-encoder/4 loaded\n"
          ],
          "name": "stdout"
        }
      ]
    },
    {
      "cell_type": "markdown",
      "metadata": {
        "id": "tkfEJxPJolFE"
      },
      "source": [
        "VQA Model"
      ]
    },
    {
      "cell_type": "code",
      "metadata": {
        "id": "PzRRNpumFwMF"
      },
      "source": [
        "import torch.nn.functional as F\n",
        "\"\"\"\n",
        "class VQAm1(nn.Module):\n",
        "    def __init__(self, D_in, H, D_out):\n",
        "        super().__init__()\n",
        "        self.linear1 = torch.nn.Linear(D_in, H)\n",
        "        self.batchnorm1 = nn.BatchNorm1d(num_features=H)\n",
        "        self.dropout1 = torch.nn.Dropout(p=0.5)\n",
        "        self.linear2 = torch.nn.Linear(H, H)\n",
        "        self.batchnorm2 = nn.BatchNorm1d(num_features=H)\n",
        "        self.dropout2 = torch.nn.Dropout(p=0.5)\n",
        "        self.linear3 = torch.nn.Linear(H, D_out)\n",
        "#        self.classifier = torch.nn.LogSoftmax(dim=1)\n",
        "\n",
        "    def forward(self, x):\n",
        "        h_relu =  F.relu(self.linear1(x))\n",
        "        h_relu = self.batchnorm1(h_relu)\n",
        "        h_relu = self.dropout1(h_relu)\n",
        "        h_relu =  F.relu(self.linear2(h_relu))\n",
        "        h_relu = self.batchnorm2(h_relu)\n",
        "        h_relu = self.dropout2(h_relu)\n",
        "        y_pred = self.linear3(h_relu)\n",
        "#        r = self.classifier(y_pred)\n",
        "        return y_pred #r\n",
        "\"\"\"\n",
        "class VQAm1(nn.Module):\n",
        "    def __init__(self, D_in, H, D_out):\n",
        "        super().__init__()\n",
        "        self.linear1 = torch.nn.Linear(D_in, 2*H)\n",
        "        self.batchnorm1 = nn.BatchNorm1d(num_features=2*H,track_running_stats=False)\n",
        "        self.dropout1 = torch.nn.Dropout(p=0.5)\n",
        "        self.linear2 = torch.nn.Linear(2*H, H)\n",
        "        self.batchnorm2 = nn.BatchNorm1d(num_features=H,track_running_stats=False)\n",
        "        self.dropout2 = torch.nn.Dropout(p=0.5)\n",
        "        self.linear3 = torch.nn.Linear(H, D_out)\n",
        "\n",
        "    def forward(self, x):\n",
        "        h_relu =  F.relu(self.linear1(x))\n",
        "        h_relu = self.batchnorm1(h_relu)\n",
        "        h_relu = self.dropout1(h_relu)\n",
        "        h_relu =  F.relu(self.linear2(h_relu))\n",
        "        h_relu = self.batchnorm2(h_relu)\n",
        "        h_relu = self.dropout2(h_relu)\n",
        "        y_pred = self.linear3(h_relu)\n",
        "\n",
        "        return y_pred"
      ],
      "execution_count": null,
      "outputs": []
    },
    {
      "cell_type": "markdown",
      "metadata": {
        "id": "fYaWfmw_Xihl"
      },
      "source": [
        "Training VQA Model"
      ]
    },
    {
      "cell_type": "code",
      "metadata": {
        "id": "dNdzGAC7Irey"
      },
      "source": [
        "# Execute an evaluation using test data\n",
        "\n",
        "def evaluation(model,loader):\n",
        "    correct = 0\n",
        "    total = 0\n",
        "    model.eval()\n",
        "    with torch.no_grad():\n",
        "        for batch, (image, question, annotation) in enumerate(loader):\n",
        "    #        print(\"-->\", annotation)\n",
        "            annotation = annotation.to(device)\n",
        "            image = image.to(device)\n",
        "            image_embedding = image_embedding_extractor.forward(image)\n",
        "            image_embedding = F.normalize(image_embedding)\n",
        "    #   image_embedding.shape) = torch.Size([batch_size, 4096])\n",
        "            question_embedding = sentence_embedding_generator(question).numpy()\n",
        "            question_embedding = t(question_embedding)\n",
        "            question_embedding = question_embedding.squeeze_(0).to(device)\n",
        "    #   question_embedding.shape = torch.Size([batch_size, 512])\n",
        "            combined_embedding = torch.cat((image_embedding,question_embedding),dim=1)\n",
        "    #   combined_embedding.shape) = torch.Size([batch_size, 4608])\n",
        "            combined_embedding = combined_embedding.to(device)\n",
        "\n",
        "            y_pred = model(combined_embedding)\n",
        "            _, results = torch.max(y_pred, 1)\n",
        "\n",
        "            loss = criterion(y_pred, annotation)\n",
        "\n",
        "            correct += (results == annotation).sum().item()\n",
        "            total += annotation.size(0)\n",
        "#           print(\"Correct {}/{}\".format((results == annotation).sum().item(),annotation.size(0)))\n",
        "\n",
        "\n",
        "    return 100 * correct / total, loss\n"
      ],
      "execution_count": null,
      "outputs": []
    },
    {
      "cell_type": "code",
      "metadata": {
        "id": "uUj-bPOfIUb1",
        "outputId": "a3c66104-b923-4ab4-abaf-0cc73fc3ba7a",
        "colab": {
          "base_uri": "https://localhost:8080/"
        }
      },
      "source": [
        "img_size = 512\n",
        "\n",
        "transform = transforms.Compose([\n",
        "                                transforms.Resize(img_size),\n",
        "                                transforms.CenterCrop(img_size),\n",
        "                                transforms.ToTensor(),\n",
        "                                transforms.Normalize(mean=[0.485, 0.456, 0.406],\n",
        "                                                     std=[0.229, 0.224, 0.225])\n",
        "                            ])\n",
        "\n",
        "# Create Dataset & Dataloader\n",
        "ds = TestDataset(dataset_root,train=True,transform=transform)\n",
        "dl = DataLoader(ds,batch_size=batch_size,shuffle=True,num_workers=4)\n",
        "\n",
        "test_dataset = TestDataset(dataset_root,train=False,transform=transform)\n",
        "test_loader = DataLoader(test_dataset,batch_size=batch_size,shuffle=False,num_workers=4)\n",
        "\n",
        "# Instantiate VQAmodel\n",
        "VQAmodel = VQAm1(4608,128,len(ds.annotation_map))\n",
        "VQAmodel.to(device)\n",
        "\n",
        "image_embedding_extractor = ImageEmbedding(model)\n",
        "for p in image_embedding_extractor.parameters():\n",
        "    p.requires_grad = False\n",
        "t = transforms.ToTensor()\n",
        "\n",
        "#w = torch.tensor([sum(ds.annotation_classdist.values())/v for v in ds.annotation_classdist.values()])\n",
        "#w.true_divide_(sum(w))\n",
        "#w = w.to(device)\n",
        "\n",
        "#criterion = torch.nn.CrossEntropyLoss(weight=w)\n",
        "criterion = torch.nn.CrossEntropyLoss()\n",
        "#optimizer = torch.optim.SGD(VQAmodel.parameters(), lr=1e-4)\n",
        "optimizer = torch.optim.AdamW(VQAmodel.parameters(),lr=learning_rate)\n",
        "\n",
        "iteration = 1\n",
        "iters = []\n",
        "losses = []\n",
        "accur = []\n",
        "epoch_e_accur = []\n",
        "epoch_e_loss = []\n",
        "start_time = time.time()\n",
        "for epoch in range(num_epochs):\n",
        "    VQAmodel.train()\n",
        "    epoch_accur = []\n",
        "    epoch_loss = []\n",
        "    epoch_start_time = time.time()\n",
        "    for batch, (image, question, annotation) in enumerate(dl):\n",
        "        batch_start_time = time.time()\n",
        "#        print(\"-->\", annotation)\n",
        "#        annotation = torch.tensor([int(i)-1 for i in annotation]).to(device)\n",
        "        annotation = annotation.to(device)\n",
        "        image = image.to(device)\n",
        "        image_embedding = image_embedding_extractor.forward(image)\n",
        "        image_embedding = F.normalize(image_embedding)\n",
        "#   image_embedding.shape) = torch.Size([batch_size, 4096])\n",
        "        question_embedding = sentence_embedding_generator(question).numpy()\n",
        "        question_embedding = t(question_embedding)\n",
        "        question_embedding = question_embedding.squeeze_(0).to(device)\n",
        "#   question_embedding.shape = torch.Size([batch_size, 512])\n",
        "        combined_embedding = torch.cat((image_embedding,question_embedding),dim=1)\n",
        "#   combined_embedding.shape = torch.Size([batch_size, 4608])\n",
        "        combined_embedding = combined_embedding.to(device)\n",
        "\n",
        "        y_pred = VQAmodel.forward(combined_embedding)\n",
        "\n",
        "        loss = criterion(y_pred, annotation)\n",
        "        \n",
        "#   Zero gradients, perform a backward pass, and update the weights.\n",
        "        optimizer.zero_grad()\n",
        "        loss.backward()\n",
        "        optimizer.step()\n",
        "\n",
        "        #information on progress\n",
        "        _, results = torch.max(y_pred, 1)\n",
        "        accuracy = 100*sum(results == annotation).true_divide(len(annotation))\n",
        "\n",
        "        iters.append(iteration)\n",
        "        #losses.append(float(loss)/annotation.size(0))\n",
        "        epoch_accur.append(accuracy)\n",
        "        epoch_loss.append(float(loss))\n",
        "        if (iteration % 10 == 0):\n",
        "            print (\"Epoch {:3d} Batch {:3d} Loss: {:6.4f} {:3.1f}% ({:3d})\".format(epoch,batch,float(loss),sum(epoch_accur)/len(epoch_accur), annotation.size(0)))\n",
        "\n",
        "        iteration += 1\n",
        "\n",
        "    accur.append(sum(epoch_accur)/len(epoch_accur))\n",
        "    losses.append(sum(epoch_loss)/len(epoch_loss))\n",
        "    e_acc, e_loss = evaluation(VQAmodel,test_loader)\n",
        "    epoch_e_accur.append(e_acc)\n",
        "    epoch_e_loss.append(e_loss)\n",
        "    epoch_end_time = time.time()\n",
        "    #if (iteration % batch_size == 0):\n",
        "    print (\"Epoch {:3d} Evaluation acc :{:3.1f}% Duration: {}\".format(epoch,e_acc,\n",
        "                                                                   str(timedelta(seconds=int(epoch_end_time - epoch_start_time)))))\n",
        "\n",
        "end_time = time.time()\n",
        "\n",
        "print (\"Total elapsed time : {}\".format(str(timedelta(seconds=end_time - start_time))))\n",
        "print(\"{} samples in {:,.0f} seconds : {:4.1f} samples/sec\".format(len(ds)*num_epochs,end_time-start_time,len(ds)*num_epochs/(end_time-start_time)))\n",
        "\n",
        "\n"
      ],
      "execution_count": null,
      "outputs": [
        {
          "output_type": "stream",
          "text": [
            "Dataset: training 750 / testing 250\n",
            "Dataset: training 750 / testing 250\n",
            "Epoch   0 Batch   9 Loss: 6.1142 1.0% ( 30)\n",
            "Epoch   0 Batch  19 Loss: 5.5175 3.2% ( 30)\n",
            "Epoch   0 Evaluation acc :12.4% Duration: 0:00:34\n",
            "Epoch   1 Batch   4 Loss: 5.1512 14.7% ( 30)\n",
            "Epoch   1 Batch  14 Loss: 4.6833 18.7% ( 30)\n",
            "Epoch   1 Batch  24 Loss: 4.2672 20.8% ( 30)\n",
            "Epoch   1 Evaluation acc :16.4% Duration: 0:00:32\n",
            "Epoch   2 Batch   9 Loss: 3.9604 31.0% ( 30)\n",
            "Epoch   2 Batch  19 Loss: 3.7336 32.2% ( 30)\n",
            "Epoch   2 Evaluation acc :21.2% Duration: 0:00:32\n",
            "Epoch   3 Batch   4 Loss: 4.0827 32.7% ( 30)\n",
            "Epoch   3 Batch  14 Loss: 3.3904 37.1% ( 30)\n",
            "Epoch   3 Batch  24 Loss: 3.1232 37.5% ( 30)\n",
            "Epoch   3 Evaluation acc :22.4% Duration: 0:00:32\n",
            "Epoch   4 Batch   9 Loss: 3.0776 41.0% ( 30)\n",
            "Epoch   4 Batch  19 Loss: 2.8949 40.5% ( 30)\n",
            "Epoch   4 Evaluation acc :22.4% Duration: 0:00:32\n",
            "Epoch   5 Batch   4 Loss: 3.0913 37.3% ( 30)\n",
            "Epoch   5 Batch  14 Loss: 3.1419 39.8% ( 30)\n",
            "Epoch   5 Batch  24 Loss: 2.9972 40.4% ( 30)\n",
            "Epoch   5 Evaluation acc :24.0% Duration: 0:00:33\n",
            "Epoch   6 Batch   9 Loss: 2.6156 44.0% ( 30)\n",
            "Epoch   6 Batch  19 Loss: 2.7695 44.2% ( 30)\n",
            "Epoch   6 Evaluation acc :23.6% Duration: 0:00:32\n",
            "Epoch   7 Batch   4 Loss: 3.2571 47.3% ( 30)\n",
            "Epoch   7 Batch  14 Loss: 2.0291 48.7% ( 30)\n",
            "Epoch   7 Batch  24 Loss: 2.8313 46.5% ( 30)\n",
            "Epoch   7 Evaluation acc :24.8% Duration: 0:00:32\n",
            "Epoch   8 Batch   9 Loss: 2.3294 47.0% ( 30)\n",
            "Epoch   8 Batch  19 Loss: 2.2487 47.7% ( 30)\n",
            "Epoch   8 Evaluation acc :23.2% Duration: 0:00:32\n",
            "Epoch   9 Batch   4 Loss: 2.6418 49.3% ( 30)\n",
            "Epoch   9 Batch  14 Loss: 2.9339 51.6% ( 30)\n",
            "Epoch   9 Batch  24 Loss: 2.2515 51.1% ( 30)\n",
            "Epoch   9 Evaluation acc :22.4% Duration: 0:00:32\n",
            "Epoch  10 Batch   9 Loss: 2.4649 55.3% ( 30)\n",
            "Epoch  10 Batch  19 Loss: 2.2961 54.7% ( 30)\n",
            "Epoch  10 Evaluation acc :21.2% Duration: 0:00:32\n",
            "Epoch  11 Batch   4 Loss: 2.4183 57.3% ( 30)\n",
            "Epoch  11 Batch  14 Loss: 2.0345 55.1% ( 30)\n",
            "Epoch  11 Batch  24 Loss: 1.5959 57.5% ( 30)\n",
            "Epoch  11 Evaluation acc :21.2% Duration: 0:00:32\n",
            "Epoch  12 Batch   9 Loss: 1.4909 60.0% ( 30)\n",
            "Epoch  12 Batch  19 Loss: 2.2619 59.8% ( 30)\n",
            "Epoch  12 Evaluation acc :22.8% Duration: 0:00:32\n",
            "Epoch  13 Batch   4 Loss: 1.4104 59.3% ( 30)\n",
            "Epoch  13 Batch  14 Loss: 2.3154 61.1% ( 30)\n",
            "Epoch  13 Batch  24 Loss: 1.5830 60.5% ( 30)\n",
            "Epoch  13 Evaluation acc :24.4% Duration: 0:00:32\n",
            "Epoch  14 Batch   9 Loss: 1.8480 66.7% ( 30)\n",
            "Epoch  14 Batch  19 Loss: 1.6019 66.3% ( 30)\n",
            "Epoch  14 Evaluation acc :21.6% Duration: 0:00:32\n",
            "Epoch  15 Batch   4 Loss: 1.4213 67.3% ( 30)\n",
            "Epoch  15 Batch  14 Loss: 1.7038 65.8% ( 30)\n",
            "Epoch  15 Batch  24 Loss: 1.3653 66.0% ( 30)\n",
            "Epoch  15 Evaluation acc :23.2% Duration: 0:00:32\n",
            "Epoch  16 Batch   9 Loss: 1.2872 74.0% ( 30)\n",
            "Epoch  16 Batch  19 Loss: 1.2912 71.8% ( 30)\n",
            "Epoch  16 Evaluation acc :24.8% Duration: 0:00:32\n",
            "Epoch  17 Batch   4 Loss: 1.2830 74.7% ( 30)\n",
            "Epoch  17 Batch  14 Loss: 1.4635 72.9% ( 30)\n",
            "Epoch  17 Batch  24 Loss: 1.3109 72.4% ( 30)\n",
            "Epoch  17 Evaluation acc :24.0% Duration: 0:00:32\n",
            "Epoch  18 Batch   9 Loss: 1.1058 79.3% ( 30)\n",
            "Epoch  18 Batch  19 Loss: 1.1883 76.2% ( 30)\n",
            "Epoch  18 Evaluation acc :23.2% Duration: 0:00:32\n",
            "Epoch  19 Batch   4 Loss: 1.3224 75.3% ( 30)\n",
            "Epoch  19 Batch  14 Loss: 1.3087 78.4% ( 30)\n",
            "Epoch  19 Batch  24 Loss: 0.8171 78.0% ( 30)\n",
            "Epoch  19 Evaluation acc :24.0% Duration: 0:00:31\n",
            "Total elapsed time : 0:10:49.933223\n",
            "15000 samples in 650 seconds : 23.1 samples/sec\n"
          ],
          "name": "stdout"
        }
      ]
    },
    {
      "cell_type": "code",
      "metadata": {
        "id": "ThodgytBEMRY",
        "outputId": "89801ec9-b0d9-40c3-e092-ced41e058f71",
        "colab": {
          "base_uri": "https://localhost:8080/",
          "height": 404
        }
      },
      "source": [
        "# plotting\n",
        "fig, ax = plt.subplots(1,2,figsize=(15, 6))\n",
        "ax[0].set_title(\"Training Curve (batch_size={}, lr={})\".format(batch_size, learning_rate))\n",
        "ax[0].plot(accur, label=\"Training\")\n",
        "ax[0].plot(epoch_e_accur, label=\"Validation\")\n",
        "ax[0].set_xlabel(\"Epochs\")\n",
        "ax[0].set_ylabel(\"Accuracy\")\n",
        "ax[0].set_xticks(range(0,num_epochs,5))\n",
        "ax[0].set_xticklabels(range(0,num_epochs,5))\n",
        "ax[0].legend()\n",
        "\n",
        "ax[1].set_title(\"Training Curve (batch_size={}, lr={})\".format(batch_size, learning_rate))\n",
        "ax[1].plot(losses, label=\"Training\")\n",
        "ax[1].plot(epoch_e_loss, label=\"Validation\")\n",
        "ax[1].set_xlabel(\"Epochs\")\n",
        "ax[1].set_ylabel(\"Loss\")\n",
        "ax[1].set_xticks(range(0,num_epochs,5))\n",
        "ax[1].set_xticklabels(range(0,num_epochs,5))\n",
        "ax[1].legend()\n",
        "plt.show()"
      ],
      "execution_count": null,
      "outputs": [
        {
          "output_type": "display_data",
          "data": {
            "image/png": "[encoded data removed]",
            "text/plain": [
              "<Figure size 1080x432 with 2 Axes>"
            ]
          },
          "metadata": {
            "tags": [],
            "needs_background": "light"
          }
        }
      ]
    },
    {
      "cell_type": "markdown",
      "metadata": {
        "id": "VXjUh_tNYMVT"
      },
      "source": [
        "Dataset visual check"
      ]
    },
    {
      "cell_type": "code",
      "metadata": {
        "id": "xCAKSwP15_FE"
      },
      "source": [
        "transform = transforms.Compose([\n",
        "                                transforms.Resize(256),\n",
        "                                transforms.CenterCrop(224),\n",
        "                                transforms.ToTensor(),\n",
        "                            ])\n",
        "vcbatch_size = 5\n",
        "vcheck_dataset = TestDataset(dataset_root,train=False,transform=transform)\n",
        "vcheck_loader = DataLoader(vcheck_dataset,batch_size=vcbatch_size,shuffle=False,num_workers=4)\n",
        "\n",
        "for batch, (image, question, annotation) in enumerate(vcheck_loader):\n",
        "    f, axarr = plt.subplots( 1,vcbatch_size,figsize=(20,20),squeeze=False)\n",
        "    for j in range(vcbatch_size):\n",
        "        img = transforms.functional.to_pil_image(image[j])\n",
        "        axarr[0,j].imshow(img)\n",
        "        l = next(key for key, value in test_dataset.annotation_map.items() if value == annotation[j].item())\n",
        "        title = question[j]+\":\"+l+\" (\"+str(annotation[j].item())+\")\"\n",
        "        axarr[0,j].set_title(title,fontsize=9,color='white')\n",
        "        axarr[0,j].axis('off')\n",
        "    plt.show()\n",
        "    if batch > 4:\n",
        "      break"
      ],
      "execution_count": null,
      "outputs": []
    }
  ]
}