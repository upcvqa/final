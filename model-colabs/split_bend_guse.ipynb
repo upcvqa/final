{
  "nbformat": 4,
  "nbformat_minor": 0,
  "metadata": {
    "colab": {
      "name": "split_bend_guse.ipynb",
      "provenance": [],
      "collapsed_sections": [],
      "toc_visible": true
    },
    "kernelspec": {
      "name": "python3",
      "display_name": "Python 3"
    },
    "accelerator": "GPU"
  },
  "cells": [
    {
      "cell_type": "markdown",
      "metadata": {
        "id": "2YTK5-rrV0fC"
      },
      "source": [
        ""
      ]
    },
    {
      "cell_type": "markdown",
      "metadata": {
        "id": "eSPlz1tpVm8a"
      },
      "source": [
        "# VQA Model\n",
        "This is a backend for the splitted model. It can use pretrained vgg-16 or resnet-50 embeddings for vision and Google Universal Sentence Encoder for language."
      ]
    },
    {
      "cell_type": "code",
      "metadata": {
        "id": "CkCidpatsu4M"
      },
      "source": [
        "import os\n",
        "import sys\n",
        "import matplotlib.pyplot as plt\n",
        "import matplotlib.image as mpimg\n",
        "from PIL import Image\n",
        "from skimage import io\n",
        "import torch\n",
        "import torch.nn as nn\n",
        "from torch.utils.data import TensorDataset, DataLoader\n",
        "from torchvision import transforms, utils\n",
        "import json\n",
        "import tqdm\n",
        "import numpy as np\n",
        "import time\n",
        "from datetime import timedelta\n"
      ],
      "execution_count": null,
      "outputs": []
    },
    {
      "cell_type": "markdown",
      "metadata": {
        "id": "_gd2OnSZbggd"
      },
      "source": [
        "# Data transfer to local disk"
      ]
    },
    {
      "cell_type": "markdown",
      "metadata": {
        "id": "4t4gt77EWmPC"
      },
      "source": [
        "Mounting shared Google Drive"
      ]
    },
    {
      "cell_type": "code",
      "metadata": {
        "id": "0LoaoQ7d7XhC",
        "outputId": "10372dd5-5c4c-4266-9a45-9c5fc2d830e6",
        "colab": {
          "base_uri": "https://localhost:8080/"
        }
      },
      "source": [
        "from google.colab import drive\n",
        "drive.mount('/content/drive',force_remount=True)\n",
        "\n",
        "import sys\n",
        "sys.path.append('/content/drive/My Drive/aidl/lib')"
      ],
      "execution_count": null,
      "outputs": [
        {
          "output_type": "stream",
          "text": [
            "Mounted at /content/drive\n"
          ],
          "name": "stdout"
        }
      ]
    },
    {
      "cell_type": "markdown",
      "metadata": {
        "id": "REqQy26vVwH2"
      },
      "source": [
        "Copy precomputed embeddings from GoogleDrive to the local disk"
      ]
    },
    {
      "cell_type": "code",
      "metadata": {
        "id": "zrpXH2eUxg-s",
        "outputId": "5ca52bb5-4929-4513-bae2-a384b23cf471",
        "colab": {
          "base_uri": "https://localhost:8080/"
        }
      },
      "source": [
        "# vgg\n",
        "!cp '/content/drive/My Drive/aidl/'full_embeddings.zip .\n",
        "!unzip full_embeddings.zip\n",
        "# resnet50\n",
        "#!cp '/content/drive/My Drive/aidl/'r50_embeddings.zip .\n",
        "#!unzip r50_embeddings.zip"
      ],
      "execution_count": null,
      "outputs": [
        {
          "output_type": "stream",
          "text": [
            "Archive:  full_embeddings.zip\n",
            "  inflating: annotation_map.save     \n",
            "  inflating: image_embeddings_train.save  \n",
            "  inflating: question_embeddings_train.save  \n",
            "  inflating: annotations_train.save  \n",
            "  inflating: metadatas_train.save    \n",
            "  inflating: image_embeddings_test.save  \n",
            "  inflating: question_embeddings_test.save  \n",
            "  inflating: annotations_test.save   \n",
            "  inflating: metadatas_test.save     \n"
          ],
          "name": "stdout"
        }
      ]
    },
    {
      "cell_type": "markdown",
      "metadata": {
        "id": "U5YuO8kibuap"
      },
      "source": [
        "# VQA Model"
      ]
    },
    {
      "cell_type": "markdown",
      "metadata": {
        "id": "X-zJrEWSWxWI"
      },
      "source": [
        "Global Parameters"
      ]
    },
    {
      "cell_type": "code",
      "metadata": {
        "id": "W0e6NGOM8KJu",
        "outputId": "bad4aa7d-45aa-41f8-bb08-079472dcf3d2",
        "colab": {
          "base_uri": "https://localhost:8080/"
        }
      },
      "source": [
        "batch_size = 400\n",
        "num_epochs = 100\n",
        "learning_rate = 1.0e-03 / 0.95 ** 3\n",
        "lmbda = lambda epoch: 0.95 ** (epoch // (num_epochs // 10))\n",
        "\n",
        "dataset_root = \"/content\"\n",
        "\n",
        "!ls '$dataset_root'\n",
        "device = torch.device('cuda')"
      ],
      "execution_count": null,
      "outputs": [
        {
          "output_type": "stream",
          "text": [
            "annotation_map.save\t    image_embeddings_train.save\n",
            "annotations_test.save\t    metadatas_test.save\n",
            "annotations_train.save\t    metadatas_train.save\n",
            "drive\t\t\t    question_embeddings_test.save\n",
            "full_embeddings.zip\t    question_embeddings_train.save\n",
            "image_embeddings_test.save  sample_data\n"
          ],
          "name": "stdout"
        }
      ]
    },
    {
      "cell_type": "markdown",
      "metadata": {
        "id": "hl5NxwTb21VS"
      },
      "source": [
        "Utility functions"
      ]
    },
    {
      "cell_type": "code",
      "metadata": {
        "id": "suQnL8euWSka"
      },
      "source": [
        "from datetime import datetime\n",
        "import pytz\n",
        "\n",
        "# Get a string YYYYMMDDHHMMSS to timestamp the torch.save files\n",
        "\n",
        "def getTimestamp():\n",
        "    tz = pytz.timezone(\"Europe/Madrid\")\n",
        "    \n",
        "    return datetime.now(tz).strftime(\"%Y%m%d%H%M%S\")"
      ],
      "execution_count": null,
      "outputs": []
    },
    {
      "cell_type": "markdown",
      "metadata": {
        "id": "tkfEJxPJolFE"
      },
      "source": [
        " VQA Model definition\n",
        "\n",
        "Parameters:\n",
        "- D_in1 : *image embedding size*\n",
        "- D_in2 : *question embedding size*\n",
        "- E     : *Combined embedding size*\n",
        "- H     : *Classifier hidden layer size*\n",
        "- D_out : *Classifier output size*"
      ]
    },
    {
      "cell_type": "code",
      "metadata": {
        "id": "PzRRNpumFwMF"
      },
      "source": [
        "import torch.nn.functional as F\n",
        "\n",
        "class VQAm1(nn.Module):\n",
        "    def __init__(self, D_in1, D_in2, E,  H, D_out):\n",
        "        super().__init__()\n",
        "\n",
        "        self.iEmbedding = nn.Sequential(\n",
        "                              nn.Linear(D_in1, E),\n",
        "                              nn.ReLU(),\n",
        "                          )\n",
        "        \n",
        "        self.qEmbedding = nn.Sequential(\n",
        "                              nn.Linear(D_in2, E),\n",
        "                              nn.ReLU(),\n",
        "                          )\n",
        "        \"\"\" 2 hidden layers classifier \n",
        "        self.model = nn.Sequential(\n",
        "                          nn.Dropout(p=0.5),\n",
        "                          nn.Linear(E, 2*H),\n",
        "                          nn.ReLU(),\n",
        "                          nn.BatchNorm1d(num_features=2*H),\n",
        "                          nn.Dropout(p=0.5),\n",
        "                          nn.Linear(2*H, H),\n",
        "                          nn.ReLU(),\n",
        "                          nn.BatchNorm1d(num_features=H),\n",
        "                          nn.Dropout(p=0.5),\n",
        "                          nn.Linear(H, D_out)\n",
        "        )\n",
        "        \"\"\"\n",
        "        self.model = nn.Sequential(\n",
        "                          nn.Dropout(p=0.5),\n",
        "                          nn.Linear(E, H),\n",
        "                          nn.ReLU(),\n",
        "                          nn.BatchNorm1d(num_features=H),\n",
        "                          nn.Dropout(p=0.5),\n",
        "                          nn.Linear(H, D_out)\n",
        "        )\n",
        "\n",
        "\n",
        "    def forward(self, x1, x2):\n",
        "        imageEmbedding = F.normalize(self.iEmbedding(x1))\n",
        "        questionEmbedding = F.normalize(self.qEmbedding(x2))\n",
        "\n",
        "        combEmbedding = imageEmbedding * questionEmbedding      # pointwise\n",
        "#       combEmbedding = torch.cat((imageEmbedding,questionEmbedding), dim=1) # concat\n",
        "\n",
        "        y_pred = self.model(combEmbedding)\n",
        "\n",
        "        return y_pred"
      ],
      "execution_count": null,
      "outputs": []
    },
    {
      "cell_type": "markdown",
      "metadata": {
        "id": "fYaWfmw_Xihl"
      },
      "source": [
        "# Training VQA Model"
      ]
    },
    {
      "cell_type": "code",
      "metadata": {
        "id": "dNdzGAC7Irey"
      },
      "source": [
        "# Accuracy calculation prediction(pred) vs ground truth (gtruth)\n",
        "#   ignoring index value passed in argument ignore\n",
        "\n",
        "def hits(pred,gtruth,ignore=-1):\n",
        "    _, y_ = torch.max(pred, 1)\n",
        "    mask = torch.tensor([ignore]*len(pred)).to(device)\n",
        "    h = ((y_ == gtruth)*(y_ != mask)).sum().item()\n",
        "\n",
        "    return h, 100 * h / (y_ != mask).sum()  \n",
        "\n",
        "def hits5(pred,gtruth,ignore=-1):\n",
        "    _, y_ = torch.max(pred, 1)\n",
        "    mask = torch.tensor([ignore]*len(pred)).to(device)\n",
        "    h = ((y_ == gtruth)*(y_ != mask)).sum().item()\n",
        "\n",
        "    return h, 100 * h / (y_ != mask).sum()\n",
        "\n",
        "# Execute an evaluation using test data\n",
        "\n",
        "def evaluation(model,loader):\n",
        "    correct = 0\n",
        "    total = 0\n",
        "    model.eval()\n",
        "    with torch.no_grad():\n",
        "        for batch, (image_embedding, question_embedding, annotation) in enumerate(loader):\n",
        "            annotation = torch.tensor([a2mfa[e] for e in annotation])\n",
        "            annotation = annotation.to(device)\n",
        "\n",
        "            image_embedding = F.normalize(image_embedding)\n",
        "            image_embedding.to(device)\n",
        "\n",
        "            question_embedding.to(device)\n",
        "\n",
        "            y_pred = model(image_embedding, question_embedding)\n",
        "\n",
        "            loss = criterion(y_pred, annotation)\n",
        "            h, _ = hits(y_pred,annotation, 999)\n",
        "\n",
        "            correct += h\n",
        "            total += annotation.size(0)\n",
        "#           print(\"Correct {}/{}\".format((results == annotation).sum().item(),annotation.size(0)))\n",
        "\n",
        "\n",
        "    return 100 * correct / total, loss\n"
      ],
      "execution_count": null,
      "outputs": []
    },
    {
      "cell_type": "markdown",
      "metadata": {
        "id": "1vXHQYMYccaZ"
      },
      "source": [
        "### Load saved embeddings\n",
        "\n",
        "Preprocessing information is stored in 8 files generated via torch.save:\n",
        "* 3 files containing training image embeddings, question embeddings and annotations\n",
        "* 3 files containing validation image embeddings, question embeddings and annotations\n",
        "* metadatas_train.save contains additional a list of dictionaries with original information about about each triplet (image file name, question in text, ...)\n",
        "* annotation_map.save contains a dictionary mapping each different answer to an integer\n",
        "\n",
        "1000w.save conatins a list of the 1000 most frequent answers, which is used to re-map the answers when using a reduced (1000 dim) classifier\n",
        "\n"
      ]
    },
    {
      "cell_type": "code",
      "metadata": {
        "id": "WSwQwIkRpUs-"
      },
      "source": [
        "#   Load saved embeddings\n",
        "\n",
        "annotation_map = torch.load(os.path.join(dataset_root,'annotation_map.save'))\n",
        "image_embeddings_train = torch.load(os.path.join(dataset_root,'image_embeddings_train.save'))\n",
        "question_embeddings_train = torch.load(os.path.join(dataset_root,'question_embeddings_train.save'))\n",
        "annotations_train = torch.load(os.path.join(dataset_root,'annotations_train.save'))\n",
        "metadatas = torch.load(os.path.join(dataset_root,'metadatas_train.save'))\n",
        "image_embeddings_test = torch.load(os.path.join(dataset_root,'image_embeddings_test.save'))\n",
        "question_embeddings_test = torch.load(os.path.join(dataset_root,'question_embeddings_test.save'))\n",
        "annotations_test = torch.load(os.path.join(dataset_root,'annotations_test.save'))\n",
        "\n",
        "#   Reverse annotation_map into a list for index to annotation access\n",
        "\n",
        "idx2label = [\"<>\"] * len(annotation_map)\n",
        "for k,v in annotation_map.items():\n",
        "  idx2label[v] = k\n",
        "\n",
        "#   Create list a2mfa to reindex annotations for a fixed size classifier output (1000)\n",
        "\n",
        "most_freq_answers = torch.load('/content/drive/My Drive/aidl/stats/1000w.save')\n",
        "\n",
        "new_idx = 0\n",
        "a2mfa = [999] * len(annotation_map)\n",
        "for k,v in annotation_map.items():\n",
        "  if k in most_freq_answers:\n",
        "    a2mfa[v] = new_idx\n",
        "    new_idx += 1"
      ],
      "execution_count": null,
      "outputs": []
    },
    {
      "cell_type": "markdown",
      "metadata": {
        "id": "tqPxxbFxmlmm"
      },
      "source": [
        "### Model training & validation"
      ]
    },
    {
      "cell_type": "code",
      "metadata": {
        "id": "uUj-bPOfIUb1",
        "outputId": "915218a6-998b-4645-cbff-9f6af0346831",
        "colab": {
          "base_uri": "https://localhost:8080/"
        }
      },
      "source": [
        "start_time = time.time()\n",
        "\n",
        "# Create Dataset & Dataloader\n",
        "ds = TensorDataset(image_embeddings_train, question_embeddings_train, annotations_train)\n",
        "dl = DataLoader(ds,batch_size=batch_size,shuffle=True)\n",
        "\n",
        "test_dataset = TensorDataset(image_embeddings_test, question_embeddings_test, annotations_test)\n",
        "test_loader = DataLoader(test_dataset,batch_size=batch_size,shuffle=False)\n",
        "\n",
        "# Instantiate VQAmodel\n",
        "VQAmodel = VQAm1(4096, 512, 1024, 1024, 1000) # vgg with 1000 outputs classifier\n",
        "#VQAmodel = VQAm1(2048, 512, 1024, 1024, 1000) #resnet50\n",
        "VQAmodel.to(device)\n",
        "\n",
        "#w = torch.tensor([sum(ds.annotation_classdist.values())/v for v in ds.annotation_classdist.values()])\n",
        "#w.true_divide_(sum(w))\n",
        "#w = w.to(device)\n",
        "\n",
        "#criterion = torch.nn.CrossEntropyLoss(weight=w)\n",
        "criterion = torch.nn.CrossEntropyLoss(ignore_index=999)\n",
        "\n",
        "optimizer = torch.optim.Adam(VQAmodel.parameters(),lr=learning_rate)\n",
        "scheduler = torch.optim.lr_scheduler.LambdaLR(optimizer, lr_lambda=lmbda)\n",
        "\n",
        "losses = []\n",
        "accur = []\n",
        "epoch_e_accur = []\n",
        "epoch_e_loss = []\n",
        "\n",
        "for epoch in range(1,num_epochs+1):\n",
        "    VQAmodel.train()\n",
        "    epoch_accur = []\n",
        "    epoch_loss = []\n",
        "\n",
        "    for batch, (image_embedding, question_embedding, annotation) in tqdm.tqdm(enumerate(dl),\"Epoch {:3d}\".format(epoch),len(dl),position=0,leave=False,unit=\" batch\"):\n",
        "        batch_start_time = time.time()\n",
        "\n",
        "#   Si annotation esta a 1000w.values annotation = 1000w.index(annotation). Si no 1001\n",
        "\n",
        "        annotation = torch.tensor([a2mfa[e] for e in annotation])\n",
        "\n",
        "        annotation = annotation.to(device)\n",
        "\n",
        "        #image_embedding = F.normalize(image_embedding)\n",
        "        image_embedding.to(device)\n",
        "        question_embedding.to(device)\n",
        "\n",
        "        y_pred = VQAmodel(image_embedding, question_embedding)\n",
        "\n",
        "        loss = criterion(y_pred, annotation)\n",
        "        \n",
        "#   Zero gradients, perform a backward pass, and update the weights.\n",
        "        optimizer.zero_grad()\n",
        "        loss.backward()\n",
        "        optimizer.step()\n",
        "        \n",
        "        _, accuracy = hits(y_pred, annotation, 999)\n",
        "\n",
        "        #information on progress\n",
        "\n",
        "        epoch_accur.append(accuracy)\n",
        "        epoch_loss.append(float(loss))\n",
        "\n",
        "    accur.append(sum(epoch_accur).true_divide(len(epoch_accur)))\n",
        "    losses.append(sum(epoch_loss)/(len(epoch_loss)))\n",
        "    e_acc, e_loss = evaluation(VQAmodel,test_loader)\n",
        "    epoch_e_accur.append(e_acc)\n",
        "    epoch_e_loss.append(e_loss)\n",
        "\n",
        "    print(\"Epoch {:3d}: TRacc: {:3.1f}% TRloss: {:6.4f} EVacc :{:3.1f}% lr: {:5.3e}\".format(\n",
        "        epoch,sum(epoch_accur).true_divide(len(epoch_accur)),sum(epoch_loss)/len(epoch_loss),e_acc,\n",
        "        scheduler.get_last_lr()[0]),file=sys.stderr)\n",
        "\n",
        "    scheduler.step()\n",
        "\n",
        "end_time = time.time()\n",
        "\n",
        "print (\"-\"*70,sys.stderr)\n",
        "print (\"Total elapsed time.    : {}\".format(str(timedelta(seconds=end_time - start_time))),file=sys.stderr)\n",
        "v, i = torch.max(torch.tensor(accur),dim=0)\n",
        "print (\"Max accuracy training  : {:3.1f}% @ epoch {}\".format(v,i+1),file=sys.stderr)\n",
        "v, i = torch.max(torch.tensor(epoch_e_accur),dim=0)\n",
        "print (\"Max accuracy validation: {:3.1f}% @ epoch {}\".format(v,i+1),file=sys.stderr)\n",
        "\n"
      ],
      "execution_count": null,
      "outputs": [
        {
          "output_type": "stream",
          "text": [
            "Epoch   1: TRacc: 30.6% TRloss: 2.8292 EVacc :34.8% lr: 1.166e-03\n",
            "Epoch   2: TRacc: 36.1% TRloss: 2.1210 EVacc :36.3% lr: 1.166e-03\n",
            "Epoch   3: TRacc: 38.1% TRloss: 1.9341 EVacc :38.4% lr: 1.166e-03\n",
            "Epoch   4: TRacc: 39.4% TRloss: 1.8265 EVacc :39.6% lr: 1.166e-03\n",
            "Epoch   5: TRacc: 40.5% TRloss: 1.7500 EVacc :40.2% lr: 1.166e-03\n",
            "Epoch   6: TRacc: 41.5% TRloss: 1.6875 EVacc :40.2% lr: 1.166e-03\n",
            "Epoch   7: TRacc: 42.4% TRloss: 1.6403 EVacc :39.9% lr: 1.166e-03\n",
            "Epoch   8: TRacc: 43.1% TRloss: 1.5914 EVacc :39.9% lr: 1.166e-03\n",
            "Epoch   9: TRacc: 44.0% TRloss: 1.5493 EVacc :39.1% lr: 1.166e-03\n",
            "Epoch  10: TRacc: 44.5% TRloss: 1.5190 EVacc :40.4% lr: 1.166e-03\n",
            "Epoch  11: TRacc: 45.3% TRloss: 1.4757 EVacc :42.0% lr: 1.108e-03\n",
            "Epoch  12: TRacc: 46.2% TRloss: 1.4387 EVacc :41.8% lr: 1.108e-03\n",
            "Epoch  13: TRacc: 46.7% TRloss: 1.4087 EVacc :43.5% lr: 1.108e-03\n",
            "Epoch  14: TRacc: 47.3% TRloss: 1.3814 EVacc :42.8% lr: 1.108e-03\n",
            "Epoch  15: TRacc: 47.9% TRloss: 1.3594 EVacc :41.9% lr: 1.108e-03\n",
            "Epoch  16: TRacc: 48.3% TRloss: 1.3331 EVacc :42.2% lr: 1.108e-03\n",
            "Epoch  17: TRacc: 49.2% TRloss: 1.3041 EVacc :41.8% lr: 1.108e-03\n",
            "Epoch  18: TRacc: 49.5% TRloss: 1.2837 EVacc :43.6% lr: 1.108e-03\n",
            "Epoch  19: TRacc: 50.3% TRloss: 1.2540 EVacc :42.9% lr: 1.108e-03\n",
            "Epoch  20: TRacc: 50.8% TRloss: 1.2380 EVacc :43.8% lr: 1.108e-03\n",
            "Epoch  21: TRacc: 51.6% TRloss: 1.2079 EVacc :44.7% lr: 1.053e-03\n",
            "Epoch  22: TRacc: 52.2% TRloss: 1.1882 EVacc :43.5% lr: 1.053e-03\n",
            "Epoch  23: TRacc: 52.5% TRloss: 1.1700 EVacc :43.4% lr: 1.053e-03\n",
            "Epoch  24: TRacc: 53.0% TRloss: 1.1501 EVacc :45.2% lr: 1.053e-03\n",
            "Epoch  25: TRacc: 53.4% TRloss: 1.1308 EVacc :44.2% lr: 1.053e-03\n",
            "Epoch  26: TRacc: 53.9% TRloss: 1.1192 EVacc :43.3% lr: 1.053e-03\n",
            "Epoch  27: TRacc: 54.4% TRloss: 1.1041 EVacc :43.0% lr: 1.053e-03\n",
            "Epoch  28: TRacc: 54.6% TRloss: 1.0881 EVacc :44.6% lr: 1.053e-03\n",
            "Epoch  29: TRacc: 55.3% TRloss: 1.0663 EVacc :43.8% lr: 1.053e-03\n",
            "Epoch  30: TRacc: 55.7% TRloss: 1.0504 EVacc :45.2% lr: 1.053e-03\n",
            "Epoch  31: TRacc: 56.1% TRloss: 1.0335 EVacc :45.3% lr: 1.000e-03\n",
            "Epoch  32: TRacc: 56.8% TRloss: 1.0112 EVacc :44.3% lr: 1.000e-03\n",
            "Epoch  33: TRacc: 57.2% TRloss: 0.9988 EVacc :44.2% lr: 1.000e-03\n",
            "Epoch  34: TRacc: 57.5% TRloss: 0.9889 EVacc :45.3% lr: 1.000e-03\n",
            "Epoch  35: TRacc: 57.9% TRloss: 0.9747 EVacc :45.0% lr: 1.000e-03\n",
            "Epoch  36: TRacc: 58.1% TRloss: 0.9658 EVacc :42.9% lr: 1.000e-03\n",
            "Epoch  37: TRacc: 58.5% TRloss: 0.9482 EVacc :43.9% lr: 1.000e-03\n",
            "Epoch  38: TRacc: 58.9% TRloss: 0.9412 EVacc :45.1% lr: 1.000e-03\n",
            "Epoch  39: TRacc: 59.4% TRloss: 0.9230 EVacc :44.4% lr: 1.000e-03\n",
            "Epoch  40: TRacc: 59.7% TRloss: 0.9135 EVacc :45.6% lr: 1.000e-03\n",
            "Epoch  41: TRacc: 60.1% TRloss: 0.8988 EVacc :44.1% lr: 9.500e-04\n",
            "Epoch  42: TRacc: 60.3% TRloss: 0.8883 EVacc :43.7% lr: 9.500e-04\n",
            "Epoch  43: TRacc: 60.7% TRloss: 0.8753 EVacc :42.3% lr: 9.500e-04\n",
            "Epoch  44: TRacc: 61.1% TRloss: 0.8643 EVacc :43.8% lr: 9.500e-04\n",
            "Epoch  45: TRacc: 61.6% TRloss: 0.8444 EVacc :44.4% lr: 9.500e-04\n",
            "Epoch  46: TRacc: 61.6% TRloss: 0.8490 EVacc :43.5% lr: 9.500e-04\n",
            "Epoch  47: TRacc: 61.8% TRloss: 0.8384 EVacc :43.1% lr: 9.500e-04\n",
            "Epoch  48: TRacc: 62.0% TRloss: 0.8334 EVacc :43.8% lr: 9.500e-04\n",
            "Epoch  49: TRacc: 62.5% TRloss: 0.8158 EVacc :44.3% lr: 9.500e-04\n",
            "Epoch  50: TRacc: 62.7% TRloss: 0.8103 EVacc :44.2% lr: 9.500e-04\n",
            "Epoch  51: TRacc: 63.1% TRloss: 0.7950 EVacc :44.9% lr: 9.025e-04\n",
            "Epoch  52: TRacc: 63.3% TRloss: 0.7848 EVacc :44.3% lr: 9.025e-04\n",
            "Epoch  53: TRacc: 63.5% TRloss: 0.7795 EVacc :43.3% lr: 9.025e-04\n",
            "Epoch  54: TRacc: 63.8% TRloss: 0.7720 EVacc :46.0% lr: 9.025e-04\n",
            "Epoch  55: TRacc: 64.1% TRloss: 0.7593 EVacc :42.4% lr: 9.025e-04\n",
            "Epoch  56: TRacc: 64.0% TRloss: 0.7579 EVacc :44.3% lr: 9.025e-04\n",
            "Epoch  57: TRacc: 64.5% TRloss: 0.7469 EVacc :44.3% lr: 9.025e-04\n",
            "Epoch  58: TRacc: 64.6% TRloss: 0.7389 EVacc :44.5% lr: 9.025e-04\n",
            "Epoch  59: TRacc: 64.9% TRloss: 0.7327 EVacc :44.6% lr: 9.025e-04\n",
            "Epoch  60: TRacc: 64.9% TRloss: 0.7326 EVacc :43.5% lr: 9.025e-04\n",
            "Epoch  61: TRacc: 65.4% TRloss: 0.7176 EVacc :42.8% lr: 8.574e-04\n",
            "Epoch  62: TRacc: 65.5% TRloss: 0.7102 EVacc :44.0% lr: 8.574e-04\n",
            "Epoch  63: TRacc: 65.9% TRloss: 0.7014 EVacc :44.5% lr: 8.574e-04\n",
            "Epoch  64: TRacc: 66.0% TRloss: 0.6926 EVacc :44.2% lr: 8.574e-04\n",
            "Epoch  65: TRacc: 66.0% TRloss: 0.6924 EVacc :44.0% lr: 8.574e-04\n",
            "Epoch  66: TRacc: 66.3% TRloss: 0.6812 EVacc :44.4% lr: 8.574e-04\n",
            "Epoch  67: TRacc: 66.5% TRloss: 0.6756 EVacc :44.9% lr: 8.574e-04\n",
            "Epoch  68: TRacc: 66.6% TRloss: 0.6732 EVacc :45.4% lr: 8.574e-04\n",
            "Epoch  69: TRacc: 66.7% TRloss: 0.6680 EVacc :44.3% lr: 8.574e-04\n",
            "Epoch  70: TRacc: 66.9% TRloss: 0.6637 EVacc :44.6% lr: 8.574e-04\n",
            "Epoch  71: TRacc: 67.2% TRloss: 0.6555 EVacc :45.0% lr: 8.145e-04\n",
            "Epoch  72: TRacc: 67.4% TRloss: 0.6435 EVacc :44.8% lr: 8.145e-04\n",
            "Epoch  73: TRacc: 67.4% TRloss: 0.6458 EVacc :45.7% lr: 8.145e-04\n",
            "Epoch  74: TRacc: 67.6% TRloss: 0.6352 EVacc :44.3% lr: 8.145e-04\n",
            "Epoch  75: TRacc: 67.9% TRloss: 0.6315 EVacc :44.5% lr: 8.145e-04\n",
            "Epoch  76: TRacc: 68.0% TRloss: 0.6284 EVacc :45.4% lr: 8.145e-04\n",
            "Epoch  77: TRacc: 68.1% TRloss: 0.6223 EVacc :46.2% lr: 8.145e-04\n",
            "Epoch  78: TRacc: 68.2% TRloss: 0.6144 EVacc :44.4% lr: 8.145e-04\n",
            "Epoch  79: TRacc: 68.4% TRloss: 0.6130 EVacc :44.6% lr: 8.145e-04\n",
            "Epoch  80: TRacc: 68.1% TRloss: 0.6171 EVacc :46.3% lr: 8.145e-04\n",
            "Epoch  81: TRacc: 68.5% TRloss: 0.6044 EVacc :45.2% lr: 7.738e-04\n",
            "Epoch  82: TRacc: 68.8% TRloss: 0.5976 EVacc :44.7% lr: 7.738e-04\n",
            "Epoch  83: TRacc: 68.8% TRloss: 0.5975 EVacc :46.1% lr: 7.738e-04\n",
            "Epoch  84: TRacc: 69.2% TRloss: 0.5785 EVacc :45.8% lr: 7.738e-04\n",
            "Epoch  85: TRacc: 69.3% TRloss: 0.5830 EVacc :45.1% lr: 7.738e-04\n",
            "Epoch  86: TRacc: 69.4% TRloss: 0.5755 EVacc :44.8% lr: 7.738e-04\n",
            "Epoch  87: TRacc: 69.5% TRloss: 0.5786 EVacc :44.8% lr: 7.738e-04\n",
            "Epoch  88: TRacc: 69.6% TRloss: 0.5711 EVacc :44.3% lr: 7.738e-04\n",
            "Epoch  89: TRacc: 69.6% TRloss: 0.5669 EVacc :44.5% lr: 7.738e-04\n",
            "Epoch  90: TRacc: 69.9% TRloss: 0.5629 EVacc :45.0% lr: 7.738e-04\n",
            "Epoch  91: TRacc: 70.1% TRloss: 0.5543 EVacc :45.2% lr: 7.351e-04\n",
            "Epoch  92: TRacc: 70.3% TRloss: 0.5462 EVacc :43.6% lr: 7.351e-04\n",
            "Epoch  93: TRacc: 70.2% TRloss: 0.5509 EVacc :45.2% lr: 7.351e-04\n",
            "Epoch  94: TRacc: 70.4% TRloss: 0.5452 EVacc :44.8% lr: 7.351e-04\n",
            "Epoch  95: TRacc: 70.5% TRloss: 0.5383 EVacc :44.1% lr: 7.351e-04\n",
            "Epoch  96: TRacc: 70.3% TRloss: 0.5400 EVacc :45.5% lr: 7.351e-04\n",
            "Epoch  97: TRacc: 71.0% TRloss: 0.5269 EVacc :44.7% lr: 7.351e-04\n",
            "Epoch  98: TRacc: 70.9% TRloss: 0.5279 EVacc :45.4% lr: 7.351e-04\n",
            "Epoch  99: TRacc: 70.6% TRloss: 0.5343 EVacc :44.6% lr: 7.351e-04\n",
            "                                                                "
          ],
          "name": "stderr"
        },
        {
          "output_type": "stream",
          "text": [
            "---------------------------------------------------------------------- <ipykernel.iostream.OutStream object at 0x7f797b9a72b0>\n"
          ],
          "name": "stdout"
        },
        {
          "output_type": "stream",
          "text": [
            "\rEpoch 100: TRacc: 70.8% TRloss: 0.5301 EVacc :44.7% lr: 7.351e-04\n",
            "Total elapsed time.    : 0:04:38.495628\n",
            "Max accuracy training  : 71.0% @ epoch 97\n",
            "Max accuracy validation: 46.3% @ epoch 80\n"
          ],
          "name": "stderr"
        }
      ]
    },
    {
      "cell_type": "code",
      "metadata": {
        "id": "9UlrJZ6f8Qq_"
      },
      "source": [
        "# O p t i o n a l\n",
        "# Save accuracy information to compare with other models\n",
        "#       (the YYYYMMDDHHMMSS_info.ext needs to be manually edited describing the\n",
        "#        experiment) see examples in the directory\n",
        "\n",
        "ts = getTimestamp()\n",
        "torch.save(accur,'/content/drive/My Drive/aidl/stats/{}_accur.save'.format(ts))\n",
        "torch.save(epoch_e_accur,'/content/drive/My Drive/aidl/stats/{}_epoch_e_accur.save'.format(ts))\n",
        "!touch '/content/drive/My Drive/aidl/stats/'$ts'_info.ext'"
      ],
      "execution_count": null,
      "outputs": []
    },
    {
      "cell_type": "code",
      "metadata": {
        "id": "QiMlUFONmRxc",
        "outputId": "000bc3ab-40c7-488f-b397-b03875b9b4a1",
        "colab": {
          "base_uri": "https://localhost:8080/",
          "height": 404
        }
      },
      "source": [
        "# plotting\n",
        "fig, ax = plt.subplots(1,2,figsize=(15, 6))\n",
        "ax[0].set_title(\"Accuracy during training\")\n",
        "ax[0].plot(accur, label=\"Training\")\n",
        "ax[0].plot(epoch_e_accur, label=\"Validation\")\n",
        "ax[0].set_xlabel(\"Epochs\")\n",
        "ax[0].set_ylabel(\"Accuracy\")\n",
        "ax[0].set_xticks(range(0,num_epochs,5))\n",
        "ax[0].set_xticklabels(range(0,num_epochs,5))\n",
        "ax[0].legend()\n",
        "\n",
        "ax[1].set_title(\"Loss during training\")\n",
        "ax[1].plot(losses, label=\"Training\")\n",
        "ax[1].plot(epoch_e_loss, label=\"Validation\")\n",
        "ax[1].set_xlabel(\"Epochs\")\n",
        "ax[1].set_ylabel(\"Loss\")\n",
        "ax[1].set_xticks(range(0,num_epochs,5))\n",
        "ax[1].set_xticklabels(range(0,num_epochs,5))\n",
        "ax[1].legend()\n",
        "plt.show()"
      ],
      "execution_count": null,
      "outputs": [
        {
          "output_type": "display_data",
          "data": {
            "image/png": "[encoded data removed]",
            "text/plain": [
              "<Figure size 1080x432 with 2 Axes>"
            ]
          },
          "metadata": {
            "tags": [],
            "needs_background": "light"
          }
        }
      ]
    },
    {
      "cell_type": "code",
      "metadata": {
        "id": "s6yci0hGPPrC",
        "outputId": "7b227d4b-d1c1-46f5-82aa-4ebe92ae0cf0",
        "colab": {
          "base_uri": "https://localhost:8080/"
        }
      },
      "source": [
        "# Print info for the log\n",
        "\n",
        "print (ts)\n",
        "print (VQAmodel)\n",
        "print (criterion)\n",
        "print (optimizer)"
      ],
      "execution_count": null,
      "outputs": [
        {
          "output_type": "stream",
          "text": [
            "20201115130529\n",
            "VQAm1(\n",
            "  (iEmbedding): Sequential(\n",
            "    (0): Linear(in_features=4096, out_features=1024, bias=True)\n",
            "    (1): ReLU()\n",
            "  )\n",
            "  (qEmbedding): Sequential(\n",
            "    (0): Linear(in_features=512, out_features=1024, bias=True)\n",
            "    (1): ReLU()\n",
            "  )\n",
            "  (model): Sequential(\n",
            "    (0): Dropout(p=0.5, inplace=False)\n",
            "    (1): Linear(in_features=1024, out_features=1024, bias=True)\n",
            "    (2): ReLU()\n",
            "    (3): BatchNorm1d(1024, eps=1e-05, momentum=0.1, affine=True, track_running_stats=True)\n",
            "    (4): Dropout(p=0.5, inplace=False)\n",
            "    (5): Linear(in_features=1024, out_features=1000, bias=True)\n",
            "  )\n",
            ")\n",
            "CrossEntropyLoss()\n",
            "Adam (\n",
            "Parameter Group 0\n",
            "    amsgrad: False\n",
            "    betas: (0.9, 0.999)\n",
            "    eps: 1e-08\n",
            "    initial_lr: 0.0011663507799970843\n",
            "    lr: 0.0006983372960937498\n",
            "    weight_decay: 0\n",
            ")\n"
          ],
          "name": "stdout"
        }
      ]
    }
  ]
}